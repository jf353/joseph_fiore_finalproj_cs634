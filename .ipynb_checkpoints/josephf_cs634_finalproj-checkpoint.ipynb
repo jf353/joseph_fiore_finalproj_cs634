{
 "cells": [
  {
   "cell_type": "code",
   "execution_count": null,
   "id": "afddd9bb",
   "metadata": {},
   "outputs": [],
   "source": [
    "%run -i \"josephfiore_cs634_finalproj_randomf.py\""
   ]
  },
  {
   "cell_type": "code",
   "execution_count": null,
   "id": "64b64d74",
   "metadata": {},
   "outputs": [],
   "source": [
    "%run -i \"josephfiore_cs634_finalproj_knn.py\""
   ]
  },
  {
   "cell_type": "code",
   "execution_count": null,
   "id": "0f6738cc",
   "metadata": {},
   "outputs": [],
   "source": [
    "%run -i \"josephfiore_cs634_finalproj_lstm.py\""
   ]
  }
 ],
 "metadata": {
  "kernelspec": {
   "display_name": "Python 3 (ipykernel)",
   "language": "python",
   "name": "python3"
  },
  "language_info": {
   "codemirror_mode": {
    "name": "ipython",
    "version": 3
   },
   "file_extension": ".py",
   "mimetype": "text/x-python",
   "name": "python",
   "nbconvert_exporter": "python",
   "pygments_lexer": "ipython3",
   "version": "3.9.7"
  }
 },
 "nbformat": 4,
 "nbformat_minor": 5
}
